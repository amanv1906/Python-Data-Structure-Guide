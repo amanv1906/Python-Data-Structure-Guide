{
  "nbformat": 4,
  "nbformat_minor": 0,
  "metadata": {
    "colab": {
      "provenance": []
    },
    "kernelspec": {
      "name": "python3",
      "display_name": "Python 3"
    },
    "language_info": {
      "name": "python"
    }
  },
  "cells": [
    {
      "cell_type": "markdown",
      "source": [
        "**<h2>1. Replace Character In String</h2>**"
      ],
      "metadata": {
        "id": "54YTrhjBc1pk"
      }
    },
    {
      "cell_type": "code",
      "source": [
        "str1 = \"test\"\n",
        "idx = 1\n",
        "character = 'c'\n",
        "str1 = str1[:idx] + character + str1[idx+1:]\n",
        "print(str1)"
      ],
      "metadata": {
        "colab": {
          "base_uri": "https://localhost:8080/"
        },
        "id": "iu-iKEuxKfH5",
        "outputId": "b2ca5ba7-0a1e-4037-d79c-1be42baf1b4b"
      },
      "execution_count": null,
      "outputs": [
        {
          "output_type": "stream",
          "name": "stdout",
          "text": [
            "tcst\n"
          ]
        }
      ]
    },
    {
      "cell_type": "markdown",
      "source": [
        "**<h2>2. Sorted Dict</h2>**"
      ],
      "metadata": {
        "id": "K7M1kOX_dLpr"
      }
    },
    {
      "cell_type": "code",
      "source": [
        "from sortedcontainers import SortedDict\n",
        "\n",
        "# time complexity for operations is O(logn) => internally uses red black tree\n",
        "d = SortedDict()\n",
        "d[2] = 3\n",
        "d[1] = 4\n",
        "d[5] = 7\n",
        "d[6] = 8\n",
        "\n",
        "\n",
        "dict_item = d.peekitem(len(d)-1) # returns tuple (key, value)\n",
        "key, value = dict_item[0], dict_item[1]\n",
        "\n",
        "\n",
        "# items key are in sorted order\n",
        "print(d)\n",
        "\n",
        "# get last item of sorted dict\n",
        "print(f\"Last Item of sorted dict:  key-> {key} value-> {value}\")\n",
        "\n",
        "# find the upper bound or lower bound of some key\n",
        "print(d.bisect_left(5)) # returns the idx after that we can use peekitem\n",
        "print(d.bisect_right(5))\n"
      ],
      "metadata": {
        "id": "3j7Fk5uhwYfS",
        "colab": {
          "base_uri": "https://localhost:8080/"
        },
        "outputId": "57b70c91-2950-4cab-87b5-10abe819bd72"
      },
      "execution_count": null,
      "outputs": [
        {
          "output_type": "stream",
          "name": "stdout",
          "text": [
            "SortedDict({1: 4, 2: 3, 5: 7, 6: 8})\n",
            "Last Item of sorted dict:  key-> 6 value-> 8\n",
            "2\n",
            "3\n"
          ]
        }
      ]
    },
    {
      "cell_type": "markdown",
      "source": [
        "**<h2>3. Custom Comparator</h2>**"
      ],
      "metadata": {
        "id": "E3jUOdw1dZ1j"
      }
    },
    {
      "cell_type": "code",
      "source": [
        "from functools import cmp_to_key\n",
        "def compare(pair_1, pair_2):\n",
        "\n",
        "  # return negative when we have to sort in ascending order\n",
        "  if pair_1[0]<pair_2[0]:\n",
        "    return -1\n",
        "\n",
        "  # if we have to sort by descending for 2nd item return positive\n",
        "  if pair_1[0]==pair_2[0]:\n",
        "    if pair_1[1]<pair_2[1]:\n",
        "      return 1\n",
        "    else:\n",
        "      return -1\n",
        "\n",
        "  return -1\n",
        "\n",
        "l2 = [(\"apple\",\"bannana\"), (\"orange\", \"mango\"), (\"orange\", \"pineapple\")]\n",
        "l2.sort(key=cmp_to_key(compare))\n",
        "print(l2)\n",
        "# output: [('orange', 'pineapple'), ('orange', 'mango'), ('apple', 'bannana')]\n",
        "\n",
        "# --------------------------------------------------------------------------------------------#\n",
        "# 2nd way and easiest use lamba function.\n",
        "\n",
        "\"\"\"\n",
        "one drawback if we have to implement above then it will not work because we cannot assign negative symbol to string\n",
        "for special case of string use above function(like sort 1st by ascending then 2nd by descending)\n",
        "\"\"\"\n",
        "class TimeSlot:\n",
        "  def __init__(self, start_time: int, finish_time: int):\n",
        "    self.start_time = start_time\n",
        "    self.end_time = finish_time\n",
        "\n",
        "n1 = TimeSlot(3,4)\n",
        "n2 = TimeSlot(4,5)\n",
        "n3 = TimeSlot(4,6)\n",
        "\n",
        "l1 = [n1, n2, n3]\n",
        "l1.sort(key=lambda x: (x.start_time, -x.end_time))\n",
        "\n",
        "for time_slots in l1:\n",
        "  print(f\"({time_slots.start_time}, {time_slots.end_time})\")\n",
        "\n",
        "# output (3, 4) (4, 6) (4, 5)"
      ],
      "metadata": {
        "id": "NK_iiRN_wa_9",
        "colab": {
          "base_uri": "https://localhost:8080/"
        },
        "outputId": "f55598e6-02a6-4e87-be66-c6fb63ae56d0"
      },
      "execution_count": null,
      "outputs": [
        {
          "output_type": "stream",
          "name": "stdout",
          "text": [
            "[('orange', 'pineapple'), ('orange', 'mango'), ('apple', 'bannana')]\n",
            "(3, 4)\n",
            "(4, 6)\n",
            "(4, 5)\n"
          ]
        }
      ]
    },
    {
      "cell_type": "markdown",
      "source": [
        "**<h2>4. INT_MAX AND INT_MIN</h2>**"
      ],
      "metadata": {
        "id": "iQ-VPBNcdmo8"
      }
    },
    {
      "cell_type": "code",
      "source": [
        "# maximum and minimum in python\n",
        "print(float('inf'))\n",
        "print(float('-inf'))"
      ],
      "metadata": {
        "colab": {
          "base_uri": "https://localhost:8080/"
        },
        "id": "eIj4LQk-kHrs",
        "outputId": "1370a10d-02fc-4852-f234-49c2d7fdc7ec"
      },
      "execution_count": null,
      "outputs": [
        {
          "output_type": "stream",
          "name": "stdout",
          "text": [
            "inf\n",
            "-inf\n"
          ]
        }
      ]
    },
    {
      "cell_type": "markdown",
      "source": [
        "**<h2>5. Priority Queue (heapq) (min_heap, max_heap, custom_comparator)</h2>**"
      ],
      "metadata": {
        "id": "j2jdi-khdyQO"
      }
    },
    {
      "cell_type": "code",
      "source": [
        "import heapq\n",
        "\n",
        "# By default heapq of python implements min priority queue.\n",
        "heap_list = [5, 4, 3, 2]\n",
        "\n",
        "# 1. heapify (will convert the whole list into heap.)\n",
        "heapq.heapify(heap_list)\n",
        "\n",
        "\n",
        "# by default top is the first element of heap.\n",
        "print(f\"Top element of heap : {heap_list[0]}\")\n",
        "\n",
        "# heappush will add the element into the list and rearrange.\n",
        "heapq.heappush(heap_list, 6)\n",
        "\n",
        "print(f\"size of heap {len(heap_list)}\")\n",
        "\n",
        "# removes the top element of list\n",
        "popped_element = heapq.heappop(heap_list)\n",
        "\n",
        "print(f\"Popped element of heap : {popped_element}\")\n",
        "\n",
        "\n",
        "\"\"\"\n",
        "some cases how to create max heap\n",
        "1. multiply the elements with minus and add it to heap and while removing multiply element with -1\n",
        "\"\"\"\n",
        "\n",
        "print(\"------------------------------------------------------\")\n",
        "\n",
        "max_heap_list = []\n",
        "for i in range(6):\n",
        "  heapq.heappush(max_heap_list, -i)\n",
        "\n",
        "print(\"Popped element of max heap: \")\n",
        "while(max_heap_list):\n",
        "  print(-1*heapq.heappop(max_heap_list))\n",
        "\n",
        "\n",
        "print(\"-------------------------------------------------------\")\n",
        "print(\"Priority Queue on pair element\")\n",
        "# if tuple is there then heap will set the priority according to first element.\n",
        "tuple_heap_list = [(\"Apple\", 1), (\"Orange\", 2), (\"Banana\", 3)]\n",
        "heapq.heapify(tuple_heap_list)\n",
        "\n",
        "while tuple_heap_list:\n",
        "  print(heapq.heappop(tuple_heap_list))\n",
        "\n",
        "\n",
        "print(\"----------------------------------------------------------------------------\")\n",
        "# Custom Sorting In heap (for this you have to create seperate class and insert the values)\n",
        "class FruitCount:\n",
        "  def __init__(self, fruit_name: str, fruit_count: int):\n",
        "    self.fruit_name = fruit_name\n",
        "    self.fruit_count = fruit_count\n",
        "\n",
        "  def __repr__(self):\n",
        "    return f\"({self.fruit_name, self.fruit_count})\"\n",
        "\n",
        "  def __lt__(self, other):\n",
        "    return self.fruit_count>other.fruit_count\n",
        "\n",
        "fruit_counter_list = [FruitCount(\"Apple\", 1), FruitCount(\"Orange\", 2), FruitCount(\"Banana\", 3)]\n",
        "heapq.heapify(fruit_counter_list)\n",
        "\n",
        "print(\"Custom Comparator Priority Queue: \")\n",
        "while fruit_counter_list:\n",
        "  print(heapq.heappop(fruit_counter_list))\n",
        "\n"
      ],
      "metadata": {
        "id": "VXLi7hBjRfWL",
        "colab": {
          "base_uri": "https://localhost:8080/"
        },
        "outputId": "0eca4165-0b58-4ee5-fe12-c84b50def3f0"
      },
      "execution_count": null,
      "outputs": [
        {
          "output_type": "stream",
          "name": "stdout",
          "text": [
            "Top element of heap : 2\n",
            "size of heap 5\n",
            "Popped element of heap : 2\n",
            "------------------------------------------------------\n",
            "Popped element of max heap: \n",
            "5\n",
            "4\n",
            "3\n",
            "2\n",
            "1\n",
            "0\n",
            "-------------------------------------------------------\n",
            "Priority Queue on pair element\n",
            "('Apple', 1)\n",
            "('Banana', 3)\n",
            "('Orange', 2)\n",
            "----------------------------------------------------------------------------\n",
            "Custom Comparator Priority Queue: \n",
            "(('Banana', 3))\n",
            "(('Orange', 2))\n",
            "(('Apple', 1))\n"
          ]
        }
      ]
    },
    {
      "cell_type": "markdown",
      "source": [
        "<h2> 6. char to ASCII and ASCII to char </h2>"
      ],
      "metadata": {
        "id": "YG-sVjjC1jZg"
      }
    },
    {
      "cell_type": "code",
      "source": [
        "s = \"b\"\n",
        "print(ord(s))\n",
        "# returns ascii value of the character , Example ord(\"b\") = 98\n",
        "print(chr(98))\n",
        "#return character of given ascii value , Example chr(98) = \"b\""
      ],
      "metadata": {
        "id": "lzl8gb4kvlXk",
        "colab": {
          "base_uri": "https://localhost:8080/"
        },
        "outputId": "3b4d6b70-cf2a-43e5-e954-2bfa18810c6d"
      },
      "execution_count": null,
      "outputs": [
        {
          "output_type": "stream",
          "name": "stdout",
          "text": [
            "98\n",
            "b\n"
          ]
        }
      ]
    },
    {
      "cell_type": "markdown",
      "source": [
        "<h2>7. Stack</h2>"
      ],
      "metadata": {
        "id": "9_DFPyWRI2GP"
      }
    },
    {
      "cell_type": "code",
      "source": [
        "# Stack can be implemented using simple list\n",
        "stack = []\n",
        "\n",
        "# push operation O(1)\n",
        "stack.append(1)\n",
        "stack.append(2)\n",
        "\n",
        "# pop operation O(1) \n",
        "stack.pop()\n",
        "\n",
        "print(stack)"
      ],
      "metadata": {
        "colab": {
          "base_uri": "https://localhost:8080/"
        },
        "id": "i3RUU9P8I_8q",
        "outputId": "011837e1-f73e-4c14-c8cd-2d2f4ed72fa8"
      },
      "execution_count": null,
      "outputs": [
        {
          "output_type": "stream",
          "name": "stdout",
          "text": [
            "[1]\n"
          ]
        }
      ]
    },
    {
      "cell_type": "markdown",
      "source": [
        "**<h2>8. Deque Python</h2>**"
      ],
      "metadata": {
        "id": "7ICQMe-G0RcC"
      }
    },
    {
      "cell_type": "code",
      "source": [
        "# queue can be implemented using simple list but pop operation will take O(n)\n",
        "\n",
        "# deque is double ended queue which can be used both as stack and queue\n",
        "from collections import deque\n",
        "\n",
        "queue = deque([])\n",
        "queue.append(1)\n",
        "queue.append(2)\n",
        "\n",
        "queue.popleft() # O(1) https://stackoverflow.com/a/32543863\n",
        "\n",
        "print(queue)\n"
      ],
      "metadata": {
        "colab": {
          "base_uri": "https://localhost:8080/"
        },
        "id": "m3jUYDtIJpLC",
        "outputId": "d5705353-6112-41cb-dbdb-60757403bcd4"
      },
      "execution_count": null,
      "outputs": [
        {
          "output_type": "stream",
          "name": "stdout",
          "text": [
            "deque([2])\n"
          ]
        }
      ]
    },
    {
      "cell_type": "markdown",
      "source": [
        "<h3>9. How do I round a floating point number up to a certain decimal place?</h3>"
      ],
      "metadata": {
        "id": "Y6-qo4_EOcCE"
      }
    },
    {
      "cell_type": "code",
      "source": [
        "import math\n",
        "v = 2.35776796976\n",
        "\n",
        "print(int(v*10**2)/10**2)\n",
        "\n",
        "print(math.ceil(v*10**2)/10**2)  # -> 2.36\n",
        "\n",
        "print(math.floor(v*1000)/1000)  # -> 2.35"
      ],
      "metadata": {
        "colab": {
          "base_uri": "https://localhost:8080/"
        },
        "id": "g3L8jaCyKcxM",
        "outputId": "2515c77b-4dcf-4758-b074-6d180f361678"
      },
      "execution_count": null,
      "outputs": [
        {
          "output_type": "stream",
          "name": "stdout",
          "text": [
            "2.35\n",
            "2.36\n",
            "2.357\n"
          ]
        }
      ]
    },
    {
      "cell_type": "markdown",
      "source": [
        "**<h3>10. Some Maths Operations</h3>**"
      ],
      "metadata": {
        "id": "W8xQobsIPhpz"
      }
    },
    {
      "cell_type": "code",
      "source": [
        "import math\n",
        "# floor\n",
        "a = 5.67\n",
        "\n",
        "print(f\"Floor of {a}: {math.floor(a)}\")\n",
        "print(f\"Ceil of {a} : {math.ceil(a)}\")\n",
        "\n",
        "# gcp of two number (math.gcd(a,b))\n",
        "a = 2\n",
        "b = 6\n",
        "\n",
        "print(f\"\\nGCD of ({a},{b}) is {math.gcd(a,b)}\")\n",
        "\n",
        "# bin used to represent number in binary\n",
        "b = 6\n",
        "print(f\"Binary representation of {b}: {bin(b)}\")"
      ],
      "metadata": {
        "colab": {
          "base_uri": "https://localhost:8080/"
        },
        "id": "vb6vQ2khOnEI",
        "outputId": "df1f52f5-a21d-48a2-e8c6-837d813029a0"
      },
      "execution_count": null,
      "outputs": [
        {
          "output_type": "stream",
          "name": "stdout",
          "text": [
            "Floor of 5.67: 5\n",
            "Ceil of 5.67 : 6\n",
            "\n",
            "GCD of (2,6) is 2\n",
            "Binary representation of 6: 0b110\n"
          ]
        }
      ]
    },
    {
      "cell_type": "markdown",
      "source": [
        "**<h2>11. Taking input in python</h2>**"
      ],
      "metadata": {
        "id": "eCWam5r9R8Zh"
      }
    },
    {
      "cell_type": "code",
      "source": [
        "# single input \n",
        "a = input()\n",
        "print(a)\n",
        "\n",
        "# more than one input\n",
        "\n",
        "x, y = input(\"Enter Two numbers: \").split()\n",
        "print(f\"Entered numbers are {x} {y}\")\n",
        "\n",
        "# taking multiple inputs at a time with type casting\n",
        "input_list = [int(a) for a in input(\"Enter multiple values: \").split()]\n",
        "print(\"list is: \", input_list)"
      ],
      "metadata": {
        "colab": {
          "base_uri": "https://localhost:8080/"
        },
        "id": "2Mk4fY3oP_N9",
        "outputId": "cb943418-481b-45d4-b958-217b1935ba4f"
      },
      "execution_count": null,
      "outputs": [
        {
          "output_type": "stream",
          "name": "stdout",
          "text": [
            "1\n",
            "1\n",
            "Enter Two numbers: 2 5\n",
            "Entered numbers are 2 5\n",
            "Enter multiple values: 2 5 6 7 8\n",
            "list is:  [2, 5, 6, 7, 8]\n"
          ]
        }
      ]
    },
    {
      "cell_type": "code",
      "source": [],
      "metadata": {
        "id": "rFDaZubOSKd4"
      },
      "execution_count": null,
      "outputs": []
    },
    {
      "cell_type": "markdown",
      "source": [
        "**<h1> Thank You </h1>**"
      ],
      "metadata": {
        "id": "Zcqnsk1UTgGw"
      }
    }
  ]
}